{
  "nbformat": 4,
  "nbformat_minor": 0,
  "metadata": {
    "colab": {
      "name": "Copy of Course 3 - Week 1 - Lesson 1.ipynb",
      "provenance": [],
      "collapsed_sections": [],
      "include_colab_link": true
    },
    "kernelspec": {
      "name": "python3",
      "display_name": "Python 3"
    }
  },
  "cells": [
    {
      "cell_type": "markdown",
      "metadata": {
        "id": "view-in-github",
        "colab_type": "text"
      },
      "source": [
        "<a href=\"https://colab.research.google.com/github/bentosilva/TensorFlow-From-Basics-To-Mastery--Coursera-Specialization/blob/master/Copy_of_Course_3_Week_1_Lesson_1.ipynb\" target=\"_parent\"><img src=\"https://colab.research.google.com/assets/colab-badge.svg\" alt=\"Open In Colab\"/></a>"
      ]
    },
    {
      "cell_type": "code",
      "metadata": {
        "id": "6Tlp8uFCu7tO",
        "colab_type": "code",
        "colab": {}
      },
      "source": [
        ""
      ],
      "execution_count": 0,
      "outputs": []
    },
    {
      "cell_type": "code",
      "metadata": {
        "id": "zaCMcjMQifQc",
        "colab_type": "code",
        "outputId": "513cd23b-d95c-4001-83a9-cda7992d99c5",
        "colab": {
          "base_uri": "https://localhost:8080/",
          "height": 667
        }
      },
      "source": [
        "\n",
        "import nltk\n",
        "nltk.download(\"punkt\")\n",
        "from nltk.tokenize import sent_tokenize\n",
        "from tensorflow.keras.preprocessing.text import Tokenizer\n",
        "\n",
        "sentences = []\n",
        "s = \"Ao escassear nos leitos e nas margens dos córregos {veios e tabuleiros) e nas meias encostas dos morros (grupiaras)^ sucederam-se os trabalhos de ataques direto às rochas matrizes. Desaparecidos os afloramentos superficiais dos vieiros contidos em rochas friáveis semidecompos- tas e sem consistência {podres)^ seguiram-se, para atingi-los em profundidade, os penosos serviços subterrâneos, cada vez mais profundos, de escavações e galerias de precárias condições. Foi quando as rochas extremamente compactas - quartzos, pirites, itabiritos e outras - se antepuseram, como invencível obstáculo, ao avanço das técnicas rudimentares e dos processos rotineiros dos inexperientes e incapacitados mineradores da Colônia desprovidos de recursos. Somente as aluviões puderam ser por eles economicamente aproveitadas. Era onde o ouro já se encontrava liberado sem a prévia e necessária desintegração das rochas, exigindo, apenas, separação de outros minerais pela ação da gravidade ou, melhor, pela concentração sob o fluxo da água.\"\n",
        "s1 = \"Oi, tio, tudo bom por aí? Eu e alguns colegas da Geografia fizemos um artigo que devemos enviar para uma revista internacional. Já fizemos as revisões em inglês, mas ainda estamos inseguros sobre o texto estar ok. Será que você poderia dar uma olhada? Nosso prazo é 10/03. Se não der, não tem problema. Bjs,\"\n",
        "p = s.lower()\n",
        "#p = \"Colab is just like a Jupyter notebook. Therefore, we can use the ! operator here to install any package in Colab. What ! actually does is, it tells the notebook cell that this line is not a Python code, its a command line script. So, to run any command line script in Colab, just add a ! preceding the line.\"\n",
        "\n",
        "#p = \"Good morning Dr. Adams. The patient is waiting for you in room number 3.\"\n",
        "sentences = sent_tokenize(p)\n",
        "\n",
        "\"\"\"\n",
        "sentences = [\n",
        "    'eu não gosto de frango?',\n",
        "    'eu não \"gosto\" de abobrinha.',\n",
        "    'você gosta de laranja!',\n",
        "    'ela gosta de frango!'\n",
        "]\n",
        "\"\"\"pwq\n",
        "\n",
        "tokenizer = Tokenizer(num_words = 100)\n",
        "tokenizer.fit_on_texts(sentences)\n",
        "word_index = tokenizer.word_index\n",
        "print(\"*Tokenization with TensorFlow and Keras:\\n\", word_index)\n",
        "\n",
        "sentence = []\n",
        "word = []\n",
        "print(\"\\n*Corpus of sentences in a list format:\\n\")\n",
        "print(sentences)\n",
        "print()\n",
        "print(\"*Removing punctuations and extraneos characters:\\n\")\n",
        "for s in range(len(sentences)):\n",
        "    sentence.append(sentences[s])\n",
        "    # print(sentence[s])\n",
        "    # Removing punctuation and extraneous characters from a string\n",
        "    # a = \"a!b@c#d$\"\n",
        "    b = \"!@#$?.:,;\\\"\\'/)(}{^\"\n",
        "    for char in b:\n",
        "        sentence[s] = sentence[s].replace(char,\" \")\n",
        "    print(\"Clean sentence: \", sentence[s]+\"\\n\")\n",
        "    # result: \"abcd\"\n",
        "\n",
        "    #for w in range(len(sentence[s].split(\" \"))):\n",
        "    word.append(sentence[s].split(\" \"))\n",
        "    #print(word[s])\n",
        "print(\"*List of sentences:\\n\", sentence, \"\\n\")\n",
        "print(\"*List of words:\\n\", word, \"\\n\")\n",
        "\n",
        "# Flattening a list\n",
        "flattened = [val for sublist in word for val in sublist]\n",
        "#print(flattened)\n",
        "\n",
        "# Removing duplicates from a list\n",
        "lista = list(set(flattened))\n",
        "\n",
        "print(\"*List of words with no duplicates:\\n\", lista, \"\\n\")\n",
        "\n",
        "# Removing the empty string\n",
        "lista.remove('')\n",
        "print(\"*Empty string removed:\\n\", lista,\"\\n\")\n",
        "# Creating a dictionary from a list\n",
        "def listToDict(lista):\n",
        "    op = {lista[i] : i+1 for i in range(0, len(lista) ) }\n",
        "    return op\n",
        "\n",
        "print(\"*Dictionary of words:\\n\", listToDict(lista))\n"
      ],
      "execution_count": 5,
      "outputs": [
        {
          "output_type": "stream",
          "text": [
            "[nltk_data] Downloading package punkt to /root/nltk_data...\n",
            "[nltk_data]   Package punkt is already up-to-date!\n",
            "*Tokenization with TensorFlow and Keras:\n",
            " {'e': 1, 'dos': 2, 'de': 3, 'se': 4, 'rochas': 5, 'os': 6, 'da': 7, 'ao': 8, 'nas': 9, 'em': 10, 'sem': 11, 'as': 12, 'das': 13, 'o': 14, 'pela': 15, 'escassear': 16, 'nos': 17, 'leitos': 18, 'margens': 19, 'córregos': 20, 'veios': 21, 'tabuleiros': 22, 'meias': 23, 'encostas': 24, 'morros': 25, 'grupiaras': 26, 'sucederam': 27, 'trabalhos': 28, 'ataques': 29, 'direto': 30, 'às': 31, 'matrizes': 32, 'desaparecidos': 33, 'afloramentos': 34, 'superficiais': 35, 'vieiros': 36, 'contidos': 37, 'friáveis': 38, 'semidecompos': 39, 'tas': 40, 'consistência': 41, 'podres': 42, 'seguiram': 43, 'para': 44, 'atingi': 45, 'los': 46, 'profundidade': 47, 'penosos': 48, 'serviços': 49, 'subterrâneos': 50, 'cada': 51, 'vez': 52, 'mais': 53, 'profundos': 54, 'escavações': 55, 'galerias': 56, 'precárias': 57, 'condições': 58, 'foi': 59, 'quando': 60, 'extremamente': 61, 'compactas': 62, 'quartzos': 63, 'pirites': 64, 'itabiritos': 65, 'outras': 66, 'antepuseram': 67, 'como': 68, 'invencível': 69, 'obstáculo': 70, 'avanço': 71, 'técnicas': 72, 'rudimentares': 73, 'processos': 74, 'rotineiros': 75, 'inexperientes': 76, 'incapacitados': 77, 'mineradores': 78, 'colônia': 79, 'desprovidos': 80, 'recursos': 81, 'somente': 82, 'aluviões': 83, 'puderam': 84, 'ser': 85, 'por': 86, 'eles': 87, 'economicamente': 88, 'aproveitadas': 89, 'era': 90, 'onde': 91, 'ouro': 92, 'já': 93, 'encontrava': 94, 'liberado': 95, 'a': 96, 'prévia': 97, 'necessária': 98, 'desintegração': 99, 'exigindo': 100, 'apenas': 101, 'separação': 102, 'outros': 103, 'minerais': 104, 'ação': 105, 'gravidade': 106, 'ou': 107, 'melhor': 108, 'concentração': 109, 'sob': 110, 'fluxo': 111, 'água': 112}\n",
            "\n",
            "*Corpus of sentences in a list format:\n",
            "\n",
            "['ao escassear nos leitos e nas margens dos córregos {veios e tabuleiros) e nas meias encostas dos morros (grupiaras)^ sucederam-se os trabalhos de ataques direto às rochas matrizes.', 'desaparecidos os afloramentos superficiais dos vieiros contidos em rochas friáveis semidecompos- tas e sem consistência {podres)^ seguiram-se, para atingi-los em profundidade, os penosos serviços subterrâneos, cada vez mais profundos, de escavações e galerias de precárias condições.', 'foi quando as rochas extremamente compactas - quartzos, pirites, itabiritos e outras - se antepuseram, como invencível obstáculo, ao avanço das técnicas rudimentares e dos processos rotineiros dos inexperientes e incapacitados mineradores da colônia desprovidos de recursos.', 'somente as aluviões puderam ser por eles economicamente aproveitadas.', 'era onde o ouro já se encontrava liberado sem a prévia e necessária desintegração das rochas, exigindo, apenas, separação de outros minerais pela ação da gravidade ou, melhor, pela concentração sob o fluxo da água.']\n",
            "\n",
            "*Removing punctuations and extraneos characters:\n",
            "\n",
            "Clean sentence:  ao escassear nos leitos e nas margens dos córregos  veios e tabuleiros  e nas meias encostas dos morros  grupiaras   sucederam-se os trabalhos de ataques direto às rochas matrizes \n",
            "\n",
            "Clean sentence:  desaparecidos os afloramentos superficiais dos vieiros contidos em rochas friáveis semidecompos- tas e sem consistência  podres   seguiram-se  para atingi-los em profundidade  os penosos serviços subterrâneos  cada vez mais profundos  de escavações e galerias de precárias condições \n",
            "\n",
            "Clean sentence:  foi quando as rochas extremamente compactas - quartzos  pirites  itabiritos e outras - se antepuseram  como invencível obstáculo  ao avanço das técnicas rudimentares e dos processos rotineiros dos inexperientes e incapacitados mineradores da colônia desprovidos de recursos \n",
            "\n",
            "Clean sentence:  somente as aluviões puderam ser por eles economicamente aproveitadas \n",
            "\n",
            "Clean sentence:  era onde o ouro já se encontrava liberado sem a prévia e necessária desintegração das rochas  exigindo  apenas  separação de outros minerais pela ação da gravidade ou  melhor  pela concentração sob o fluxo da água \n",
            "\n",
            "*List of sentences:\n",
            " ['ao escassear nos leitos e nas margens dos córregos  veios e tabuleiros  e nas meias encostas dos morros  grupiaras   sucederam-se os trabalhos de ataques direto às rochas matrizes ', 'desaparecidos os afloramentos superficiais dos vieiros contidos em rochas friáveis semidecompos- tas e sem consistência  podres   seguiram-se  para atingi-los em profundidade  os penosos serviços subterrâneos  cada vez mais profundos  de escavações e galerias de precárias condições ', 'foi quando as rochas extremamente compactas - quartzos  pirites  itabiritos e outras - se antepuseram  como invencível obstáculo  ao avanço das técnicas rudimentares e dos processos rotineiros dos inexperientes e incapacitados mineradores da colônia desprovidos de recursos ', 'somente as aluviões puderam ser por eles economicamente aproveitadas ', 'era onde o ouro já se encontrava liberado sem a prévia e necessária desintegração das rochas  exigindo  apenas  separação de outros minerais pela ação da gravidade ou  melhor  pela concentração sob o fluxo da água '] \n",
            "\n",
            "*List of words:\n",
            " [['ao', 'escassear', 'nos', 'leitos', 'e', 'nas', 'margens', 'dos', 'córregos', '', 'veios', 'e', 'tabuleiros', '', 'e', 'nas', 'meias', 'encostas', 'dos', 'morros', '', 'grupiaras', '', '', 'sucederam-se', 'os', 'trabalhos', 'de', 'ataques', 'direto', 'às', 'rochas', 'matrizes', ''], ['desaparecidos', 'os', 'afloramentos', 'superficiais', 'dos', 'vieiros', 'contidos', 'em', 'rochas', 'friáveis', 'semidecompos-', 'tas', 'e', 'sem', 'consistência', '', 'podres', '', '', 'seguiram-se', '', 'para', 'atingi-los', 'em', 'profundidade', '', 'os', 'penosos', 'serviços', 'subterrâneos', '', 'cada', 'vez', 'mais', 'profundos', '', 'de', 'escavações', 'e', 'galerias', 'de', 'precárias', 'condições', ''], ['foi', 'quando', 'as', 'rochas', 'extremamente', 'compactas', '-', 'quartzos', '', 'pirites', '', 'itabiritos', 'e', 'outras', '-', 'se', 'antepuseram', '', 'como', 'invencível', 'obstáculo', '', 'ao', 'avanço', 'das', 'técnicas', 'rudimentares', 'e', 'dos', 'processos', 'rotineiros', 'dos', 'inexperientes', 'e', 'incapacitados', 'mineradores', 'da', 'colônia', 'desprovidos', 'de', 'recursos', ''], ['somente', 'as', 'aluviões', 'puderam', 'ser', 'por', 'eles', 'economicamente', 'aproveitadas', ''], ['era', 'onde', 'o', 'ouro', 'já', 'se', 'encontrava', 'liberado', 'sem', 'a', 'prévia', 'e', 'necessária', 'desintegração', 'das', 'rochas', '', 'exigindo', '', 'apenas', '', 'separação', 'de', 'outros', 'minerais', 'pela', 'ação', 'da', 'gravidade', 'ou', '', 'melhor', '', 'pela', 'concentração', 'sob', 'o', 'fluxo', 'da', 'água', '']] \n",
            "\n",
            "*List of words with no duplicates:\n",
            " ['', 'invencível', 'desprovidos', 'cada', 'as', 'o', 'minerais', 'concentração', 'ser', 'leitos', 'galerias', 'nas', 'condições', 'mineradores', 'subterrâneos', 'precárias', 'colônia', 'foi', 'grupiaras', 'dos', 'outras', 'rotineiros', 'já', 'por', 'tabuleiros', 'era', 'vieiros', 'contidos', 'a', 'margens', 'quartzos', 'aluviões', 'apenas', 'podres', 'direto', 'técnicas', 'trabalhos', 'afloramentos', 'inexperientes', 'avanço', 'córregos', 'de', 'outros', 'veios', 'matrizes', 'necessária', 'para', 'penosos', 'ao', 'às', 'sob', 'economicamente', 'da', 'profundos', 'prévia', 'obstáculo', 'processos', 'itabiritos', 'ouro', 'exigindo', 'se', 'rudimentares', 'das', 'gravidade', 'sem', 'recursos', 'semidecompos-', 'antepuseram', 'superficiais', 'extremamente', 'somente', 'sucederam-se', 'meias', 'os', 'ataques', 'como', 'rochas', 'escavações', 'eles', 'desintegração', 'onde', 'tas', 'e', 'quando', '-', 'compactas', 'fluxo', 'incapacitados', 'encontrava', 'mais', 'nos', 'friáveis', 'melhor', 'água', 'profundidade', 'desaparecidos', 'ação', 'consistência', 'ou', 'pela', 'atingi-los', 'vez', 'encostas', 'em', 'seguiram-se', 'serviços', 'pirites', 'aproveitadas', 'separação', 'puderam', 'escassear', 'morros', 'liberado'] \n",
            "\n",
            "*Empty string removed:\n",
            " ['invencível', 'desprovidos', 'cada', 'as', 'o', 'minerais', 'concentração', 'ser', 'leitos', 'galerias', 'nas', 'condições', 'mineradores', 'subterrâneos', 'precárias', 'colônia', 'foi', 'grupiaras', 'dos', 'outras', 'rotineiros', 'já', 'por', 'tabuleiros', 'era', 'vieiros', 'contidos', 'a', 'margens', 'quartzos', 'aluviões', 'apenas', 'podres', 'direto', 'técnicas', 'trabalhos', 'afloramentos', 'inexperientes', 'avanço', 'córregos', 'de', 'outros', 'veios', 'matrizes', 'necessária', 'para', 'penosos', 'ao', 'às', 'sob', 'economicamente', 'da', 'profundos', 'prévia', 'obstáculo', 'processos', 'itabiritos', 'ouro', 'exigindo', 'se', 'rudimentares', 'das', 'gravidade', 'sem', 'recursos', 'semidecompos-', 'antepuseram', 'superficiais', 'extremamente', 'somente', 'sucederam-se', 'meias', 'os', 'ataques', 'como', 'rochas', 'escavações', 'eles', 'desintegração', 'onde', 'tas', 'e', 'quando', '-', 'compactas', 'fluxo', 'incapacitados', 'encontrava', 'mais', 'nos', 'friáveis', 'melhor', 'água', 'profundidade', 'desaparecidos', 'ação', 'consistência', 'ou', 'pela', 'atingi-los', 'vez', 'encostas', 'em', 'seguiram-se', 'serviços', 'pirites', 'aproveitadas', 'separação', 'puderam', 'escassear', 'morros', 'liberado'] \n",
            "\n",
            "*Dictionary of words:\n",
            " {'invencível': 1, 'desprovidos': 2, 'cada': 3, 'as': 4, 'o': 5, 'minerais': 6, 'concentração': 7, 'ser': 8, 'leitos': 9, 'galerias': 10, 'nas': 11, 'condições': 12, 'mineradores': 13, 'subterrâneos': 14, 'precárias': 15, 'colônia': 16, 'foi': 17, 'grupiaras': 18, 'dos': 19, 'outras': 20, 'rotineiros': 21, 'já': 22, 'por': 23, 'tabuleiros': 24, 'era': 25, 'vieiros': 26, 'contidos': 27, 'a': 28, 'margens': 29, 'quartzos': 30, 'aluviões': 31, 'apenas': 32, 'podres': 33, 'direto': 34, 'técnicas': 35, 'trabalhos': 36, 'afloramentos': 37, 'inexperientes': 38, 'avanço': 39, 'córregos': 40, 'de': 41, 'outros': 42, 'veios': 43, 'matrizes': 44, 'necessária': 45, 'para': 46, 'penosos': 47, 'ao': 48, 'às': 49, 'sob': 50, 'economicamente': 51, 'da': 52, 'profundos': 53, 'prévia': 54, 'obstáculo': 55, 'processos': 56, 'itabiritos': 57, 'ouro': 58, 'exigindo': 59, 'se': 60, 'rudimentares': 61, 'das': 62, 'gravidade': 63, 'sem': 64, 'recursos': 65, 'semidecompos-': 66, 'antepuseram': 67, 'superficiais': 68, 'extremamente': 69, 'somente': 70, 'sucederam-se': 71, 'meias': 72, 'os': 73, 'ataques': 74, 'como': 75, 'rochas': 76, 'escavações': 77, 'eles': 78, 'desintegração': 79, 'onde': 80, 'tas': 81, 'e': 82, 'quando': 83, '-': 84, 'compactas': 85, 'fluxo': 86, 'incapacitados': 87, 'encontrava': 88, 'mais': 89, 'nos': 90, 'friáveis': 91, 'melhor': 92, 'água': 93, 'profundidade': 94, 'desaparecidos': 95, 'ação': 96, 'consistência': 97, 'ou': 98, 'pela': 99, 'atingi-los': 100, 'vez': 101, 'encostas': 102, 'em': 103, 'seguiram-se': 104, 'serviços': 105, 'pirites': 106, 'aproveitadas': 107, 'separação': 108, 'puderam': 109, 'escassear': 110, 'morros': 111, 'liberado': 112}\n"
          ],
          "name": "stdout"
        }
      ]
    }
  ]
}